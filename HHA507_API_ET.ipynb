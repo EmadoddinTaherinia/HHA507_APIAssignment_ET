{
  "nbformat": 4,
  "nbformat_minor": 0,
  "metadata": {
    "colab": {
      "name": "HHA507_API_ET.ipynb",
      "provenance": []
    },
    "kernelspec": {
      "name": "python3",
      "display_name": "Python 3"
    },
    "language_info": {
      "name": "python"
    }
  },
  "cells": [
    {
      "cell_type": "markdown",
      "metadata": {
        "id": "pIOqp3HcJ7mm"
      },
      "source": [
        ""
      ]
    },
    {
      "cell_type": "markdown",
      "metadata": {
        "id": "0ph11Eox_pAh"
      },
      "source": [
        "###HHA 507 API Assignment\n",
        "Emadoddin Taherinia"
      ]
    },
    {
      "cell_type": "code",
      "metadata": {
        "id": "YAcLHEGXJzhS"
      },
      "source": [
        "import requests"
      ],
      "execution_count": 3,
      "outputs": []
    },
    {
      "cell_type": "code",
      "metadata": {
        "id": "oSmq0XXyJ6Dd"
      },
      "source": [
        "import pandas as pd"
      ],
      "execution_count": 4,
      "outputs": []
    },
    {
      "cell_type": "markdown",
      "metadata": {
        "id": "NBRJNudJ_2Cd"
      },
      "source": [
        "# The API, I chose presents different dog breeds"
      ]
    },
    {
      "cell_type": "code",
      "metadata": {
        "id": "jcYhbC2gJ_0T"
      },
      "source": [
        "jsonresponse = requests.get('https://dog.ceo/api/breeds/list/all')"
      ],
      "execution_count": 5,
      "outputs": []
    },
    {
      "cell_type": "markdown",
      "metadata": {
        "id": "2bfv4UoRAKDg"
      },
      "source": [
        ""
      ]
    },
    {
      "cell_type": "code",
      "metadata": {
        "colab": {
          "base_uri": "https://localhost:8080/"
        },
        "id": "c1Y4S-4lKZe9",
        "outputId": "cf5df0ac-6a95-4446-e282-4eb86eb361e2"
      },
      "source": [
        "jsonresponse.status_code"
      ],
      "execution_count": 6,
      "outputs": [
        {
          "output_type": "execute_result",
          "data": {
            "text/plain": [
              "200"
            ]
          },
          "metadata": {},
          "execution_count": 6
        }
      ]
    },
    {
      "cell_type": "code",
      "metadata": {
        "colab": {
          "base_uri": "https://localhost:8080/"
        },
        "id": "kyVyfIQfUZVZ",
        "outputId": "6f269aa2-6cf8-4863-88aa-9cce78c5ebe6"
      },
      "source": [
        "jsonresponse.json()"
      ],
      "execution_count": 7,
      "outputs": [
        {
          "output_type": "execute_result",
          "data": {
            "text/plain": [
              "{'message': {'affenpinscher': [],\n",
              "  'african': [],\n",
              "  'airedale': [],\n",
              "  'akita': [],\n",
              "  'appenzeller': [],\n",
              "  'australian': ['shepherd'],\n",
              "  'basenji': [],\n",
              "  'beagle': [],\n",
              "  'bluetick': [],\n",
              "  'borzoi': [],\n",
              "  'bouvier': [],\n",
              "  'boxer': [],\n",
              "  'brabancon': [],\n",
              "  'briard': [],\n",
              "  'buhund': ['norwegian'],\n",
              "  'bulldog': ['boston', 'english', 'french'],\n",
              "  'bullterrier': ['staffordshire'],\n",
              "  'cattledog': ['australian'],\n",
              "  'chihuahua': [],\n",
              "  'chow': [],\n",
              "  'clumber': [],\n",
              "  'cockapoo': [],\n",
              "  'collie': ['border'],\n",
              "  'coonhound': [],\n",
              "  'corgi': ['cardigan'],\n",
              "  'cotondetulear': [],\n",
              "  'dachshund': [],\n",
              "  'dalmatian': [],\n",
              "  'dane': ['great'],\n",
              "  'deerhound': ['scottish'],\n",
              "  'dhole': [],\n",
              "  'dingo': [],\n",
              "  'doberman': [],\n",
              "  'elkhound': ['norwegian'],\n",
              "  'entlebucher': [],\n",
              "  'eskimo': [],\n",
              "  'finnish': ['lapphund'],\n",
              "  'frise': ['bichon'],\n",
              "  'germanshepherd': [],\n",
              "  'greyhound': ['italian'],\n",
              "  'groenendael': [],\n",
              "  'havanese': [],\n",
              "  'hound': ['afghan',\n",
              "   'basset',\n",
              "   'blood',\n",
              "   'english',\n",
              "   'ibizan',\n",
              "   'plott',\n",
              "   'walker'],\n",
              "  'husky': [],\n",
              "  'keeshond': [],\n",
              "  'kelpie': [],\n",
              "  'komondor': [],\n",
              "  'kuvasz': [],\n",
              "  'labradoodle': [],\n",
              "  'labrador': [],\n",
              "  'leonberg': [],\n",
              "  'lhasa': [],\n",
              "  'malamute': [],\n",
              "  'malinois': [],\n",
              "  'maltese': [],\n",
              "  'mastiff': ['bull', 'english', 'tibetan'],\n",
              "  'mexicanhairless': [],\n",
              "  'mix': [],\n",
              "  'mountain': ['bernese', 'swiss'],\n",
              "  'newfoundland': [],\n",
              "  'otterhound': [],\n",
              "  'ovcharka': ['caucasian'],\n",
              "  'papillon': [],\n",
              "  'pekinese': [],\n",
              "  'pembroke': [],\n",
              "  'pinscher': ['miniature'],\n",
              "  'pitbull': [],\n",
              "  'pointer': ['german', 'germanlonghair'],\n",
              "  'pomeranian': [],\n",
              "  'poodle': ['miniature', 'standard', 'toy'],\n",
              "  'pug': [],\n",
              "  'puggle': [],\n",
              "  'pyrenees': [],\n",
              "  'redbone': [],\n",
              "  'retriever': ['chesapeake', 'curly', 'flatcoated', 'golden'],\n",
              "  'ridgeback': ['rhodesian'],\n",
              "  'rottweiler': [],\n",
              "  'saluki': [],\n",
              "  'samoyed': [],\n",
              "  'schipperke': [],\n",
              "  'schnauzer': ['giant', 'miniature'],\n",
              "  'setter': ['english', 'gordon', 'irish'],\n",
              "  'sheepdog': ['english', 'shetland'],\n",
              "  'shiba': [],\n",
              "  'shihtzu': [],\n",
              "  'spaniel': ['blenheim',\n",
              "   'brittany',\n",
              "   'cocker',\n",
              "   'irish',\n",
              "   'japanese',\n",
              "   'sussex',\n",
              "   'welsh'],\n",
              "  'springer': ['english'],\n",
              "  'stbernard': [],\n",
              "  'terrier': ['american',\n",
              "   'australian',\n",
              "   'bedlington',\n",
              "   'border',\n",
              "   'cairn',\n",
              "   'dandie',\n",
              "   'fox',\n",
              "   'irish',\n",
              "   'kerryblue',\n",
              "   'lakeland',\n",
              "   'norfolk',\n",
              "   'norwich',\n",
              "   'patterdale',\n",
              "   'russell',\n",
              "   'scottish',\n",
              "   'sealyham',\n",
              "   'silky',\n",
              "   'tibetan',\n",
              "   'toy',\n",
              "   'westhighland',\n",
              "   'wheaten',\n",
              "   'yorkshire'],\n",
              "  'vizsla': [],\n",
              "  'waterdog': ['spanish'],\n",
              "  'weimaraner': [],\n",
              "  'whippet': [],\n",
              "  'wolfhound': ['irish']},\n",
              " 'status': 'success'}"
            ]
          },
          "metadata": {},
          "execution_count": 7
        }
      ]
    },
    {
      "cell_type": "markdown",
      "metadata": {
        "id": "QqsGE6n5COiY"
      },
      "source": [
        "##Next API displays single random pictures of dogs"
      ]
    },
    {
      "cell_type": "code",
      "metadata": {
        "id": "DxwOB4njBbBu"
      },
      "source": [
        "jsonresponsedogimage = requests.get('https://dog.ceo/api/breeds/image/random')"
      ],
      "execution_count": 9,
      "outputs": []
    },
    {
      "cell_type": "code",
      "metadata": {
        "colab": {
          "base_uri": "https://localhost:8080/"
        },
        "id": "gLN9K3HDBuGo",
        "outputId": "430494f7-068d-4214-a0c7-c3fcd50ff92f"
      },
      "source": [
        "jsonresponsedogimage.status_code"
      ],
      "execution_count": 10,
      "outputs": [
        {
          "output_type": "execute_result",
          "data": {
            "text/plain": [
              "200"
            ]
          },
          "metadata": {},
          "execution_count": 10
        }
      ]
    },
    {
      "cell_type": "code",
      "metadata": {
        "colab": {
          "base_uri": "https://localhost:8080/"
        },
        "id": "FKaUWHIUB7uK",
        "outputId": "3d47d00b-1f97-41fe-978e-074ee06385ca"
      },
      "source": [
        "jsonresponsedogimage.json()"
      ],
      "execution_count": 11,
      "outputs": [
        {
          "output_type": "execute_result",
          "data": {
            "text/plain": [
              "{'message': 'https://images.dog.ceo/breeds/mastiff-bull/n02108422_5106.jpg',\n",
              " 'status': 'success'}"
            ]
          },
          "metadata": {},
          "execution_count": 11
        }
      ]
    }
  ]
}